{
 "cells": [
  {
   "cell_type": "code",
   "execution_count": null,
   "metadata": {},
   "outputs": [],
   "source": [
    "import numpy as np\n",
    "import matplotlib.pyplot as plot"
   ]
  },
  {
   "cell_type": "code",
   "execution_count": null,
   "metadata": {},
   "outputs": [],
   "source": [
    "M_ej = 5 # M_Sun\n",
    "n_0 = 3.73*10**-3 # cm^-3\n",
    "m_p = 0.938272088 # GeV\n",
    "E_sn = 8*10**50 # ergs\n",
    "age = 68000 # tropical years\n",
    "\n",
    "secInTropicalYear = 31556925.1 # s yr^-1\n",
    "GeVInMSun = 1.1154162068126*10**57 # GeV MSun^-1\n",
    "GeVInErg = 624.151 # GeV ergs^-1\n",
    "hbar = 6.582119569*10**-25 # GeV s\n",
    "c = 2.99792458*10**10 # cm s^-1\n",
    "hbarc = 1.973269804*10**-14 # GeV cm"
   ]
  },
  {
   "cell_type": "code",
   "execution_count": null,
   "metadata": {},
   "outputs": [],
   "source": [
    "M_ej = M_ej * GeVInMSun # GeV\n",
    "n_0 = n_0 * hbarc**3 # GeV^3\n",
    "E_sn = E_sn * GeVInErg # GeV\n",
    "age = age * secInTropicalYear # seconds\n",
    "age = age / hbar # GeV^-1\n",
    "\n",
    "R_0 = ((3*M_ej) / (4*np.pi*n_0*1.27*m_p))**(1./3.)\n",
    "t_0 = R_0**(7./4.) * ((M_ej*n_0*1.27*m_p) / (0.38*E_sn**2))**(1./4.)\n",
    "lam_FE = 4./7.\n",
    "lam_ST = 2./5.\n",
    "\n",
    "def RShockOriginal(t):\n",
    "    return R_0 * ((t/t_0)**(-5.*lam_FE) + (t/t_0)**(-5.*lam_ST))**(-1./5.)\n",
    "\n",
    "def VShockOriginal(t):\n",
    "    return R_0/t_0 * (RShockOriginal(t)/R_0)**6 * (lam_FE*(t/t_0)**(-5.*lam_FE-1.) + lam_ST*(t/t_0)**(-5.*lam_ST-1.))"
   ]
  },
  {
   "cell_type": "code",
   "execution_count": null,
   "metadata": {},
   "outputs": [],
   "source": [
    "plot.clf()\n",
    "ax = plot.subplot(111)\n",
    "\n",
    "times = np.linspace(0.1*secInTropicalYear/hbar,age,1000)\n",
    "\n",
    "plot.plot(times*hbar/secInTropicalYear, RShockOriginal(times)*hbarc*3.24078*10**-19, label=r\"$R_{\\rm Shock}$\")\n",
    "\n",
    "#   Shrink current axis by 20%\n",
    "box = ax.get_position()\n",
    "ax.set_position([box.x0, box.y0, box.width * 0.8, box.height])\n",
    "#   Put a legend to the right of the current axis\n",
    "ax.legend(loc='center left', bbox_to_anchor=(1, 0.5))\n",
    "\n",
    "plot.title(r\"Original Functions\")\n",
    "plot.xlabel(r\"Time [yr]\")\n",
    "plot.ylabel(r\"Distance [pc]\")\n",
    "plot.grid()\n",
    "plot.show()"
   ]
  },
  {
   "cell_type": "code",
   "execution_count": null,
   "metadata": {},
   "outputs": [],
   "source": [
    "plot.clf()\n",
    "ax = plot.subplot(111)\n",
    "\n",
    "plot.plot(times*hbar/secInTropicalYear, VShockOriginal(times), label=r\"$V_{\\rm Shock}$\")\n",
    "\n",
    "#   Shrink current axis by 20%\n",
    "box = ax.get_position()\n",
    "ax.set_position([box.x0, box.y0, box.width * 0.8, box.height])\n",
    "#   Put a legend to the right of the current axis\n",
    "ax.legend(loc='center left', bbox_to_anchor=(1, 0.5))\n",
    "\n",
    "plot.title(r\"Original Functions\")\n",
    "plot.xlabel(r\"Time [yr]\")\n",
    "plot.ylabel(r\"Velocity [$c$]\")\n",
    "plot.yscale(\"log\")\n",
    "plot.grid()\n",
    "plot.show()"
   ]
  },
  {
   "cell_type": "code",
   "execution_count": null,
   "metadata": {},
   "outputs": [],
   "source": [
    "plot.clf()\n",
    "ax = plot.subplot(111)\n",
    "\n",
    "velArray, scatterArray = np.loadtxt(\"testOld.dat\", skiprows=21).T\n",
    "plot.plot(velArray*10**5, scatterArray, label=r\"Old $V_{\\rm Shock}$\")\n",
    "\n",
    "for i in range(1,5):\n",
    "    interpPts = 10**i\n",
    "    velArray, scatterArray = np.loadtxt(\"test\"+str(interpPts)+\".dat\", skiprows=21).T\n",
    "    plot.plot(velArray*10**5, scatterArray, label=str(interpPts)+\" points\")\n",
    "\n",
    "#   Shrink current axis by 20%\n",
    "box = ax.get_position()\n",
    "ax.set_position([box.x0, box.y0, box.width * 0.8, box.height])\n",
    "#   Put a legend to the right of the current axis\n",
    "ax.legend(loc='center left', bbox_to_anchor=(1, 0.5))\n",
    "\n",
    "plot.title(r\"Linearly interpolated $V_{\\rm Shock}\\left(r\\right)$\")\n",
    "plot.xlabel(r\"DM Velocity [cm s$^{-1}$]\")\n",
    "plot.ylabel(r\"Total Scatters [cm$^{-3}$]\")\n",
    "# plot.yscale(\"log\")\n",
    "plot.grid()\n",
    "plot.show()\n",
    "# plot.savefig(\"interpolateVShock.pdf\")"
   ]
  }
 ],
 "metadata": {
  "interpreter": {
   "hash": "e7370f93d1d0cde622a1f8e1c04877d8463912d04d973331ad4851f04de6915a"
  },
  "kernelspec": {
   "display_name": "Python 3.8.10 64-bit",
   "language": "python",
   "name": "python3"
  },
  "language_info": {
   "codemirror_mode": {
    "name": "ipython",
    "version": 3
   },
   "file_extension": ".py",
   "mimetype": "text/x-python",
   "name": "python",
   "nbconvert_exporter": "python",
   "pygments_lexer": "ipython3",
   "version": "3.8.10"
  },
  "orig_nbformat": 4
 },
 "nbformat": 4,
 "nbformat_minor": 2
}
