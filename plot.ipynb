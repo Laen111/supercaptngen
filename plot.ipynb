{
 "cells": [
  {
   "cell_type": "code",
   "execution_count": 1,
   "metadata": {},
   "outputs": [],
   "source": [
    "import matplotlib.pyplot as plot\n",
    "import numpy as np"
   ]
  },
  {
   "cell_type": "code",
   "execution_count": null,
   "metadata": {},
   "outputs": [],
   "source": [
    "# rawData = np.loadtxt(\"VShock.dat\", skiprows=2)\n",
    "# time, R_s, V_s = rawData.T"
   ]
  },
  {
   "cell_type": "code",
   "execution_count": null,
   "metadata": {},
   "outputs": [],
   "source": [
    "# plot.clf()\n",
    "# plot.plot(time*3.17098*10**-8, V_s*10**-5, label=r\"$V_{shock}$\")\n",
    "\n",
    "# plot.xscale(\"log\")\n",
    "# plot.yscale(\"log\")\n",
    "# plot.grid()\n",
    "# plot.legend()\n",
    "# plot.show()"
   ]
  },
  {
   "cell_type": "code",
   "execution_count": null,
   "metadata": {},
   "outputs": [],
   "source": [
    "# plot.clf()\n",
    "# plot.plot(time*3.17098*10**-8, R_s*10**-5, label=r\"$R_{shock}$\")\n",
    "\n",
    "# plot.xscale(\"log\")\n",
    "# plot.yscale(\"log\")\n",
    "# plot.grid()\n",
    "# plot.legend()\n",
    "# plot.show()"
   ]
  },
  {
   "cell_type": "code",
   "execution_count": null,
   "metadata": {},
   "outputs": [],
   "source": [
    "totalData = [[],[]]\n",
    "for i in range(1,16):\n",
    "    if i != 2:\n",
    "        filename = \"Oper_c\"+str(i)+\"-0_Phi.dat\" \n",
    "        rawData = np.loadtxt(filename, skiprows=2)\n",
    "        mdm, vdm, scatter = rawData.T\n",
    "        totalData[0].append(vdm)\n",
    "        totalData[1].append(scatter)"
   ]
  },
  {
   "cell_type": "code",
   "execution_count": null,
   "metadata": {},
   "outputs": [],
   "source": [
    "plot.clf()\n",
    "dmMass = mdm[0]\n",
    "for i in range(len(totalData[0])):\n",
    "    num = i+1\n",
    "    if i >= 2:\n",
    "        num = i+2\n",
    "    couplingLabel = r\"$c_{\"+str(num)+\"}^{0}$\"\n",
    "    lineStyle = \"solid\"\n",
    "    if num >= 11:\n",
    "        lineStyle = \"dotted\"\n",
    "    if num == 1:\n",
    "    # if num==7 or num==13 or num==14:\n",
    "        plot.plot(totalData[0][i], totalData[1][i], label=couplingLabel, linestyle=lineStyle)\n",
    "\n",
    "plot.title(r\"$m_\\chi$ \"+str(dmMass)+r\" GeV, $c_{i}^{0} = 3.593 \\times 10^{-1}$ GeV$^{-2}$\")# \\approx 3 \\times 10^{30}$ cm$^{2}$\")\n",
    "plot.xlabel(r\"Dark Matter Velocity [km s$^{-1}$]\")\n",
    "plot.ylabel(r\"Scattered Dark Matter[(cm s$^{-1}$)$^{-1}$ s$^{-1}$ cm$^{-2}$]\")\n",
    "# plot.xscale(\"log\")\n",
    "# plot.yscale(\"log\")\n",
    "plot.ylim(10**-16, 3*10**-15)\n",
    "plot.xlim(4300, 4520)\n",
    "plot.grid()\n",
    "plot.legend()\n",
    "plot.show()"
   ]
  },
  {
   "cell_type": "code",
   "execution_count": 16,
   "metadata": {},
   "outputs": [
    {
     "data": {
      "image/png": "[encoded data removed]",
      "text/plain": [
       "<Figure size 432x288 with 1 Axes>"
      ]
     },
     "metadata": {
      "needs_background": "light"
     },
     "output_type": "display_data"
    }
   ],
   "source": [
    "DsigmaDe, vel = np.loadtxt(\"temp.dat\", skiprows=6).T\n",
    "\n",
    "elements = [\"H\", \"He\", \"C\", \"O\", \"Ne\", \"Mg\", \"Si\", \"S\", \"Fe\"]\n",
    "element = elements[8]\n",
    "\n",
    "plot.clf()\n",
    "\n",
    "plot.plot(vel, DsigmaDe/DsigmaDe[0], label=r\"$\\frac{d\\sigma}{dE}\\left(v\\right) / \\frac{d\\sigma}{dE}\\left(v=0\\right)$\")\n",
    "\n",
    "plot.title(r\"$\\frac{d\\sigma}{dE}\\left(v\\right)$ for \"+element)# \\approx 3 \\times 10^{30}$ cm$^{2}$\")\n",
    "plot.xlabel(r\"Dark Matter Velocity [$cm/s$]\")\n",
    "plot.ylabel(\"crude form factor\")#r\"$\\frac{d\\sigma}{dE}\\left(v\\right)$ [cm $^{2}$ GeV $^{-1}$]\")\n",
    "# plot.xscale(\"log\")\n",
    "# plot.yscale(\"log\")\n",
    "# plot.ylim(10**-16, 3*10**-15)\n",
    "# plot.xlim(0, 10**8)\n",
    "plot.grid()\n",
    "plot.legend()\n",
    "# plot.show()\n",
    "plot.savefig(\"FF_\"+element+\".pdf\")"
   ]
  },
  {
   "cell_type": "code",
   "execution_count": 45,
   "metadata": {},
   "outputs": [
    {
     "name": "stdout",
     "output_type": "stream",
     "text": [
      "15.596563118354606 -26.73668986338106 15.65058632446419 -3.5932112775999996 0.281695\n",
      "0.12952801\n",
      "2.0201917835598664 44.06644337479136 961.2213293343239 20967.120856769605 457355.8072487154\n",
      "1.112622736e-11\n",
      "2.020191783069573\n"
     ]
    }
   ],
   "source": [
    "A_cat = 0.281695\n",
    "B_cat = 7.44089\n",
    "C_cat = -6.37784\n",
    "D_cat = 1\n",
    "\n",
    "y0_cat = A_cat*B_cat**2\n",
    "y1_cat = A_cat*2*B_cat*C_cat\n",
    "y2_cat = A_cat*(C_cat**2 + 2*B_cat*D_cat)\n",
    "y3_cat = A_cat*2*C_cat*D_cat\n",
    "y4_cat = A_cat*D_cat**2\n",
    "\n",
    "print(y0_cat, y1_cat, y2_cat, y3_cat, y4_cat)\n",
    "\n",
    "c1 = 0.3599\n",
    "print(c1**2)\n",
    "\n",
    "yconv = 21.813\n",
    "\n",
    "array0_cat = c1**2*y0_cat*(yconv)**0\n",
    "array1_cat = c1**2*y0_cat*(yconv)**1\n",
    "array2_cat = c1**2*y0_cat*(yconv)**2\n",
    "array3_cat = c1**2*y0_cat*(yconv)**3\n",
    "array4_cat = c1**2*y0_cat*(yconv)**4\n",
    "\n",
    "print(array0_cat, array1_cat, array2_cat, array3_cat, array4_cat)\n",
    "\n",
    "vel = 3.3356*10**-6\n",
    "print(vel**2)\n",
    "\n",
    "# print(c1**2*y0_cat/2.02, c1**2*y1_cat/-75.54, c1**2*y2_cat/964.5, c1**2*y3_cat/-4830.31, c1**2*y4_cat/8260.19)\n",
    "\n",
    "mdm = 1\n",
    "\n",
    "result_cat = (array0_cat + array1_cat*(mdm*vel)**2 + array2_cat*(mdm*vel)**4 + array3_cat*(mdm*vel)**6 + array4_cat*(mdm*vel)**8) * np.exp(-2*yconv*(mdm*vel)**2)\n",
    "print(result_cat)\n"
   ]
  }
 ],
 "metadata": {
  "interpreter": {
   "hash": "31f2aee4e71d21fbe5cf8b01ff0e069b9275f58929596ceb00d14d90e3e16cd6"
  },
  "kernelspec": {
   "display_name": "Python 3.8.10 64-bit",
   "language": "python",
   "name": "python3"
  },
  "language_info": {
   "codemirror_mode": {
    "name": "ipython",
    "version": 3
   },
   "file_extension": ".py",
   "mimetype": "text/x-python",
   "name": "python",
   "nbconvert_exporter": "python",
   "pygments_lexer": "ipython3",
   "version": "3.8.10"
  },
  "orig_nbformat": 4
 },
 "nbformat": 4,
 "nbformat_minor": 2
}
