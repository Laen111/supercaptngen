{
 "cells": [
  {
   "cell_type": "code",
   "execution_count": null,
   "metadata": {},
   "outputs": [],
   "source": [
    "import matplotlib.pyplot as plot\n",
    "import numpy as np"
   ]
  },
  {
   "cell_type": "code",
   "execution_count": null,
   "metadata": {},
   "outputs": [],
   "source": [
    "# rawData = np.loadtxt(\"VShock.dat\", skiprows=2)\n",
    "# time, R_s, V_s = rawData.T"
   ]
  },
  {
   "cell_type": "code",
   "execution_count": null,
   "metadata": {},
   "outputs": [],
   "source": [
    "# plot.clf()\n",
    "# plot.plot(time*3.17098*10**-8, V_s*10**-5, label=r\"$V_{shock}$\")\n",
    "\n",
    "# plot.xscale(\"log\")\n",
    "# plot.yscale(\"log\")\n",
    "# plot.grid()\n",
    "# plot.legend()\n",
    "# plot.show()"
   ]
  },
  {
   "cell_type": "code",
   "execution_count": null,
   "metadata": {},
   "outputs": [],
   "source": [
    "# plot.clf()\n",
    "# plot.plot(time*3.17098*10**-8, R_s*10**-5, label=r\"$R_{shock}$\")\n",
    "\n",
    "# plot.xscale(\"log\")\n",
    "# plot.yscale(\"log\")\n",
    "# plot.grid()\n",
    "# plot.legend()\n",
    "# plot.show()"
   ]
  },
  {
   "cell_type": "code",
   "execution_count": null,
   "metadata": {},
   "outputs": [],
   "source": [
    "totalData = [[],[]]\n",
    "for i in range(1,16):\n",
    "    if i != 2:\n",
    "        filename = \"Oper_c\"+str(i)+\"-0_Phi.dat\" \n",
    "        rawData = np.loadtxt(filename, skiprows=2)\n",
    "        mdm, vdm, scatter = rawData.T\n",
    "        totalData[0].append(vdm)\n",
    "        totalData[1].append(scatter)"
   ]
  },
  {
   "cell_type": "code",
   "execution_count": null,
   "metadata": {},
   "outputs": [],
   "source": [
    "plot.clf()\n",
    "dmMass = mdm[0]\n",
    "for i in range(len(totalData[0])):\n",
    "    num = i+1\n",
    "    if i >= 2:\n",
    "        num = i+2\n",
    "    couplingLabel = r\"$c_{\"+str(num)+\"}^{0}$\"\n",
    "    lineStyle = \"solid\"\n",
    "    if num >= 11:\n",
    "        lineStyle = \"dotted\"\n",
    "    if num == 1:\n",
    "    # if num==7 or num==13 or num==14:\n",
    "        plot.plot(totalData[0][i], totalData[1][i], label=couplingLabel, linestyle=lineStyle)\n",
    "\n",
    "plot.title(r\"$m_\\chi$ \"+str(dmMass)+r\" GeV, $c_{i}^{0} = 3.60 \\times 10^{-1}$ GeV$^{-2}$\")# \\approx 3 \\times 10^{30}$ cm$^{2}$\")\n",
    "plot.xlabel(r\"Dark Matter Velocity [km s$^{-1}$]\")\n",
    "plot.ylabel(r\"Scattered Dark Matter[(cm s$^{-1}$)$^{-1}$ s$^{-1}$ cm$^{-2}$]\")\n",
    "# plot.xscale(\"log\")\n",
    "# plot.yscale(\"log\")\n",
    "plot.ylim(10**-16, 3*10**-15)\n",
    "plot.xlim(4300, 4520)\n",
    "plot.grid()\n",
    "plot.legend()\n",
    "plot.show()"
   ]
  }
 ],
 "metadata": {
  "interpreter": {
   "hash": "31f2aee4e71d21fbe5cf8b01ff0e069b9275f58929596ceb00d14d90e3e16cd6"
  },
  "kernelspec": {
   "display_name": "Python 3.8.10 64-bit",
   "language": "python",
   "name": "python3"
  },
  "language_info": {
   "codemirror_mode": {
    "name": "ipython",
    "version": 3
   },
   "file_extension": ".py",
   "mimetype": "text/x-python",
   "name": "python",
   "nbconvert_exporter": "python",
   "pygments_lexer": "ipython3",
   "version": "3.8.10"
  },
  "orig_nbformat": 4
 },
 "nbformat": 4,
 "nbformat_minor": 2
}
