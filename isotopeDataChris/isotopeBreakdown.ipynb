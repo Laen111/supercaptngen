{
 "cells": [
  {
   "cell_type": "code",
   "execution_count": null,
   "metadata": {},
   "outputs": [],
   "source": [
    "import numpy as np\n",
    "import matplotlib.pyplot as plot\n",
    "from scipy import interpolate"
   ]
  },
  {
   "cell_type": "code",
   "execution_count": null,
   "metadata": {},
   "outputs": [],
   "source": [
    "chrisRawData = np.loadtxt(\"supernovadmplot.txt\", skiprows=0, dtype=\"str\")\n",
    "chrisData = {}\n",
    "for i in range(0,len(chrisRawData),2):\n",
    "    chrisData[chrisRawData[i].lower()] = np.array(chrisRawData[i+1].split(\",\")).astype(float)"
   ]
  },
  {
   "cell_type": "code",
   "execution_count": null,
   "metadata": {},
   "outputs": [],
   "source": [
    "myRawData = np.loadtxt(\"Oper_c1-0_IsotopicBreakdown.dat\", skiprows=2, dtype=\"str\")\n",
    "isotopes = [\"hydrogen\", \"helium\", \"carbon\", \"oxygen\", \"neon\", \"magnesium\", \"silicon\", \"sulfur\", \"iron\"]\n",
    "length = 1002\n",
    "myData = {}\n",
    "for i in range(len(isotopes)):\n",
    "    isotopicData = []\n",
    "    for j in range(1,length):\n",
    "        isotopicData.append(myRawData[i*length+j][2])\n",
    "    myData[isotopes[i].lower()] = np.array(isotopicData).astype(float)\n",
    "vel = []\n",
    "for i in range(1,length):\n",
    "    vel.append(myRawData[i][1])\n",
    "myData[\"velocity\"] = np.array(vel).astype(float)"
   ]
  },
  {
   "cell_type": "code",
   "execution_count": null,
   "metadata": {},
   "outputs": [],
   "source": [
    "plot.clf()\n",
    "ax = plot.subplot(111)\n",
    "colours = [\"blue\", \"orange\", \"green\", \"red\", \"purple\", \"brown\", \"pink\", \"gray\", \"yellow\"]\n",
    "totalChris = np.zeros(chrisData[\"velocity\"].shape)\n",
    "totalSuper = np.zeros(myData[\"velocity\"].shape)\n",
    "for i in range(len(isotopes)):\n",
    "    totalChris = totalChris + chrisData[isotopes[i]]\n",
    "    plot.plot(chrisData[\"velocity\"]*10**-5, chrisData[isotopes[i]], label=\"Chris \"+isotopes[i], color=colours[i], linestyle=\"solid\")\n",
    "    totalSuper = totalSuper + myData[isotopes[i]]\n",
    "    plot.plot(myData[\"velocity\"], myData[isotopes[i]], label=\"Super \"+isotopes[i], color=colours[i], linestyle=\"dashed\")\n",
    "plot.plot(chrisData[\"velocity\"]*10**-5, totalChris, label=\"Chris Total\", color=\"black\", linestyle=\"solid\")\n",
    "plot.plot(myData[\"velocity\"], totalSuper, label=\"Super Total\", color=\"black\", linestyle=\"dashed\")\n",
    "\n",
    "# Shrink current axis by 20%\n",
    "box = ax.get_position()\n",
    "ax.set_position([box.x0, box.y0, box.width * 0.8, box.height])\n",
    "# Put a legend to the right of the current axis\n",
    "ax.legend(loc='center left', bbox_to_anchor=(1, 0.5))\n",
    "plot.title(r\"Isotopic velocity spectrum for $c_{1}^{0}$\")\n",
    "plot.xlabel(r\"Dark Matter Velocity [km s$^{-1}$]\")\n",
    "plot.ylabel(r\"Scattered Dark Matter[(cm s$^{-1}$)$^{-1}$ s$^{-1}$ cm$^{-2}$]\")\n",
    "# plot.xscale(\"log\")\n",
    "# plot.yscale(\"log\")\n",
    "# plot.ylim(top=0.0)\n",
    "plot.xlim(4300, 4500)\n",
    "plot.grid()\n",
    "plot.savefig(\"isotopicBreakdown+total.pdf\")"
   ]
  },
  {
   "cell_type": "code",
   "execution_count": null,
   "metadata": {},
   "outputs": [],
   "source": [
    "plot.clf()\n",
    "ax = plot.subplot(111)\n",
    "colours = [\"blue\", \"orange\", \"green\", \"red\", \"purple\", \"brown\", \"pink\", \"gray\", \"yellow\"]\n",
    "totalChris = np.zeros(chrisData[\"velocity\"].shape)\n",
    "totalSuper = np.zeros(myData[\"velocity\"].shape)\n",
    "for i in range(len(isotopes)):\n",
    "    totalChris = totalChris + chrisData[isotopes[i]]\n",
    "    # plot.plot(chrisData[\"velocity\"]*10**-5, interpolate.interp1d(chrisData[\"velocity\"]*10**-5, chrisData[isotopes[i]])(chrisData[\"velocity\"]*10**-5), label=\"Chris \"+isotopes[i], color=colours[i], linestyle=\"solid\")\n",
    "    totalSuper = totalSuper + myData[isotopes[i]]\n",
    "    # plot.plot(myData[\"velocity\"], interpolate.interp1d(myData[\"velocity\"], myData[isotopes[i]])(myData[\"velocity\"]), label=\"Super \"+isotopes[i], color=colours[i], linestyle=\"dashed\")\n",
    "    plot.plot(myData[\"velocity\"], interpolate.interp1d(myData[\"velocity\"], myData[isotopes[i]])(myData[\"velocity\"])/interpolate.interp1d(chrisData[\"velocity\"]*10**-5, chrisData[isotopes[i]])(myData[\"velocity\"]), label=isotopes[i], color=colours[i])\n",
    "# plot.plot(chrisData[\"velocity\"]*10**-5, interpolate.interp1d(chrisData[\"velocity\"]*10**-5, totalChris)(chrisData[\"velocity\"]*10**-5), label=\"Chris Total\", color=\"black\", linestyle=\"solid\")\n",
    "# plot.plot(myData[\"velocity\"], interpolate.interp1d(myData[\"velocity\"], totalSuper)(myData[\"velocity\"]), label=\"Super Total\", color=\"black\", linestyle=\"dashed\")\n",
    "plot.plot(myData[\"velocity\"], interpolate.interp1d(myData[\"velocity\"], totalSuper)(myData[\"velocity\"])/interpolate.interp1d(chrisData[\"velocity\"]*10**-5, totalChris)(myData[\"velocity\"]), label=\"Total\", color=\"black\")\n",
    "\n",
    "# Shrink current axis by 20%\n",
    "box = ax.get_position()\n",
    "ax.set_position([box.x0, box.y0, box.width * 0.8, box.height])\n",
    "# Put a legend to the right of the current axis\n",
    "ax.legend(loc='center left', bbox_to_anchor=(1, 0.5))\n",
    "plot.title(r\"Isotopic velocity spectrum for $c_{1}^{0}$ ratio Super/Chris\")\n",
    "plot.xlabel(r\"Dark Matter Velocity [km s$^{-1}$]\")\n",
    "plot.ylabel(r\"Scattered Dark Matter[(cm s$^{-1}$)$^{-1}$ s$^{-1}$ cm$^{-2}$]\")\n",
    "# plot.xscale(\"log\")\n",
    "# plot.yscale(\"log\")\n",
    "# plot.ylim(top=1.0)\n",
    "plot.xlim(4300, 4500)\n",
    "plot.grid()\n",
    "plot.savefig(\"isotopicBreakdownRatio+total.pdf\")"
   ]
  }
 ],
 "metadata": {
  "interpreter": {
   "hash": "31f2aee4e71d21fbe5cf8b01ff0e069b9275f58929596ceb00d14d90e3e16cd6"
  },
  "kernelspec": {
   "display_name": "Python 3.8.10 64-bit",
   "language": "python",
   "name": "python3"
  },
  "language_info": {
   "codemirror_mode": {
    "name": "ipython",
    "version": 3
   },
   "file_extension": ".py",
   "mimetype": "text/x-python",
   "name": "python",
   "nbconvert_exporter": "python",
   "pygments_lexer": "ipython3",
   "version": "3.8.10"
  },
  "orig_nbformat": 4
 },
 "nbformat": 4,
 "nbformat_minor": 2
}
